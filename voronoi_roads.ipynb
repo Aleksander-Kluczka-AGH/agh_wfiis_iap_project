{
 "cells": [
  {
   "cell_type": "code",
   "execution_count": 1,
   "metadata": {},
   "outputs": [],
   "source": [
    "import numpy as np\n",
    "import matplotlib.pyplot as plt\n",
    "import scipy.spatial as ssp\n",
    "import cv2\n",
    "\n",
    "from voronoi_plot_2d import voronoi_plot_2d"
   ]
  },
  {
   "cell_type": "code",
   "execution_count": 2,
   "metadata": {},
   "outputs": [],
   "source": [
    "output_size: int = 1024\n",
    "draw_size: int = output_size + 40\n",
    "generation_number: int = 1000"
   ]
  },
  {
   "cell_type": "code",
   "execution_count": 3,
   "metadata": {},
   "outputs": [],
   "source": [
    "def generate_roads(filename: str):\n",
    "    # randomize number of points and their location\n",
    "    number_of_points: int = np.random.randint(4, 15)\n",
    "    points = np.array(\n",
    "        [\n",
    "            [np.random.randint(0, draw_size), np.random.randint(0, draw_size)]\n",
    "            for i in range(number_of_points)\n",
    "        ]\n",
    "    )\n",
    "    points = points / draw_size\n",
    "\n",
    "    # calculate voronoi with provided points\n",
    "    vor = ssp.Voronoi(points, furthest_site=True, incremental=True)\n",
    "\n",
    "    fig = plt.figure(facecolor=\"black\", frameon=False, clear=True)\n",
    "    fig.set_size_inches(output_size / fig.dpi, output_size / fig.dpi)\n",
    "\n",
    "    axes = fig.add_subplot(111)\n",
    "    axes.axis(\"off\")\n",
    "\n",
    "    # draw voronoi diagram\n",
    "    voronoi_plot_2d(\n",
    "        vor=vor,\n",
    "        ax=axes,\n",
    "        show_points=False,\n",
    "        show_vertices=False,\n",
    "        line_colors=\"black\",\n",
    "        line_styles=\"solid\",\n",
    "        line_widths=[10, 10, 10, 6, 6, 6, 6, 6, 3],\n",
    "        line_alpha=1,\n",
    "    )\n",
    "\n",
    "    # save original white background, black lines image\n",
    "    plt.tight_layout(pad=0)\n",
    "    plt.savefig(filename, transparent=True, facecolor=\"black\")\n",
    "    plt.close()\n",
    "\n",
    "    # load to cv2 (believe me, it's easier this way than to convert directly - thanks matplotlib)\n",
    "    img = cv2.imread(filename=filename, flags=cv2.IMREAD_GRAYSCALE)\n",
    "\n",
    "    # perform image binarization (prevents weird artefacts on negation)\n",
    "    _, img = cv2.threshold(img, 127, 255, cv2.THRESH_BINARY)\n",
    "\n",
    "    # make image negative (matplotlib cannot handle black backgrounds correctly for some reason)\n",
    "    img = 255 - img\n",
    "\n",
    "    # smooth-out rough edges of roads\n",
    "    img = cv2.medianBlur(src=img, ksize=5)\n",
    "    img = cv2.GaussianBlur(src=img, ksize=(3, 3), sigmaX=0)\n",
    "\n",
    "    # save negative to file\n",
    "    cv2.imwrite(filename=filename, img=img)"
   ]
  },
  {
   "cell_type": "code",
   "execution_count": 5,
   "metadata": {},
   "outputs": [],
   "source": [
    "for i in range(generation_number):\n",
    "    generate_roads(f\"out/road{i}.jpg\")\n"
   ]
  }
 ],
 "metadata": {
  "kernelspec": {
   "display_name": "Python 3",
   "language": "python",
   "name": "python3"
  },
  "language_info": {
   "codemirror_mode": {
    "name": "ipython",
    "version": 3
   },
   "file_extension": ".py",
   "mimetype": "text/x-python",
   "name": "python",
   "nbconvert_exporter": "python",
   "pygments_lexer": "ipython3",
   "version": "3.11.3"
  },
  "orig_nbformat": 4
 },
 "nbformat": 4,
 "nbformat_minor": 2
}
